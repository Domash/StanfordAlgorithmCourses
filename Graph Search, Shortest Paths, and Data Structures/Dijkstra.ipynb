{
 "cells": [
  {
   "cell_type": "code",
   "execution_count": null,
   "metadata": {},
   "outputs": [],
   "source": [
    "#include <iostream>\n",
    "#include <fstream>\n",
    "#include <vector>\n",
    "#include <set>\n",
    "\n",
    "std::function<std::vector<long long>(\n",
    "    const std::vector<std::vector<std::pair<long long, int>>>&, int)> Dijkstra =\n",
    "    [](const std::vector<std::vector<std::pair<long long, int>>>& graph, int source) {\n",
    "\n",
    "    std::set<std::pair<long long, int>> q;\n",
    "    std::vector<long long> d(graph.size(), std::numeric_limits<long long>::max());\n",
    "\n",
    "    d[source] = 0;\n",
    "    q.insert({d[source], source});\n",
    "\n",
    "    while(!q.empty()) {\n",
    "        auto [curr_dist, v] = *q.begin();\n",
    "        q.erase(q.begin());\n",
    "\n",
    "        if(curr_dist > d[v]) continue;\n",
    "\n",
    "        for(auto&& [dist, to] : graph[v]) {\n",
    "            if(d[v] + dist < d[to]) {\n",
    "                q.erase({d[to], to});\n",
    "                d[to] = d[v] + dist;\n",
    "                q.insert({d[to], to});\n",
    "            }\n",
    "        }\n",
    "    }\n",
    "\n",
    "    return d;\n",
    "};"
   ]
  },
  {
   "cell_type": "code",
   "execution_count": null,
   "metadata": {},
   "outputs": [],
   "source": []
  }
 ],
 "metadata": {
  "kernelspec": {
   "display_name": "C++17",
   "language": "C++17",
   "name": "xcpp17"
  },
  "language_info": {
   "codemirror_mode": "text/x-c++src",
   "file_extension": ".cpp",
   "mimetype": "text/x-c++src",
   "name": "c++",
   "version": "17"
  }
 },
 "nbformat": 4,
 "nbformat_minor": 2
}
